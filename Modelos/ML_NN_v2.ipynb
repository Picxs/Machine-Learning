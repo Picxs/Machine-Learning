{
  "cells": [
    {
      "cell_type": "code",
      "execution_count": 34,
      "metadata": {
        "id": "K8EZj-1iI2BR"
      },
      "outputs": [],
      "source": [
        "import os\n",
        "import logging\n",
        "import sys\n",
        "\n",
        "import matplotlib.pyplot as plt\n",
        "import numpy as np\n",
        "from sklearn.model_selection import train_test_split\n",
        "from imblearn.over_sampling import SMOTE\n",
        "\n",
        "import torch\n",
        "import torch.nn as nn\n",
        "import torch.nn.functional as F\n",
        "import torch.optim as optim\n",
        "from torch.utils.data import Subset, DataLoader, TensorDataset\n",
        "from torch.backends import cudnn\n",
        "\n",
        "import torchvision\n",
        "from torchvision import datasets, transforms\n",
        "from torchvision.models import alexnet\n",
        "from torchvision.models import resnet18\n",
        "from torchvision.models import vgg11\n",
        "\n",
        "from PIL import Image\n",
        "from tqdm import tqdm"
      ]
    },
    {
      "cell_type": "code",
      "execution_count": 35,
      "metadata": {
        "id": "kh8loLPgI2BU"
      },
      "outputs": [],
      "source": [
        "device = 'cuda' \n",
        "num_class = 101 \n",
        "batch_size = 256    \n",
        "num_epochs = 20     \n",
        "step_size =  6     \n"
      ]
    },
    {
      "cell_type": "code",
      "execution_count": 36,
      "metadata": {
        "id": "BejjdohgI2BV"
      },
      "outputs": [],
      "source": [
        "def imgshow(img):\n",
        "    npimg = img.numpy()\n",
        "    plt.imshow(np.transpose(npimg, (1, 2, 0)))\n",
        "    plt.show()\n",
        "\n",
        "    return"
      ]
    },
    {
      "cell_type": "code",
      "execution_count": 37,
      "metadata": {
        "colab": {
          "base_uri": "https://localhost:8080/"
        },
        "id": "dauW7KbrI2BV",
        "outputId": "18324a29-d73a-4343-a001-f8206b566ac0"
      },
      "outputs": [
        {
          "name": "stdout",
          "output_type": "stream",
          "text": [
            "Files already downloaded and verified\n"
          ]
        }
      ],
      "source": [
        "transform = transforms.Compose([\n",
        "    transforms.Resize((224, 224)),  # Redimensionando as imagens para 224x224\n",
        "    transforms.ToTensor(),\n",
        "])\n",
        "\n",
        "caltech101_dataset = datasets.Caltech101(\n",
        "    root='C:/Users/Usuário/Desktop/machine/Trabalho_3',        # Diretório onde o dataset será armazenado\n",
        "    download=True,        # Baixar o dataset\n",
        "    transform=transform  \n",
        ")"
      ]
    },
    {
      "cell_type": "code",
      "execution_count": 38,
      "metadata": {
        "colab": {
          "base_uri": "https://localhost:8080/"
        },
        "id": "6OwA0VekI2BW",
        "outputId": "d5294b3a-8c73-45b4-ec94-14a7caf0e567"
      },
      "outputs": [
        {
          "name": "stdout",
          "output_type": "stream",
          "text": [
            "Tamanho do treino: 6941\n",
            "Tamanho da validação: 867\n",
            "Tamanho do teste: 869\n"
          ]
        }
      ],
      "source": [
        "data_dir = 'C:/Users/Usuário/Desktop/machine/Trabalho_3/caltech101/101_ObjectCategories'\n",
        "\n",
        "from torch.utils.data import random_split\n",
        "\n",
        "dataset_size = len(caltech101_dataset)  # Tamanho total do dataset\n",
        "\n",
        "train_size = int(0.8 * dataset_size)  # 80% para treino\n",
        "val_size = int(0.1 * dataset_size)    # 10% para validação\n",
        "test_size = dataset_size - train_size - val_size  # O restante para teste (10%)\n",
        "\n",
        "# Dividindo o dataset completo em treino, validação e teste\n",
        "train_dataset, val_dataset, test_dataset = random_split(caltech101_dataset, [train_size, val_size, test_size])\n",
        "\n",
        "print(f'Tamanho do treino: {len(train_dataset)}')\n",
        "print(f'Tamanho da validação: {len(val_dataset)}')\n",
        "print(f'Tamanho do teste: {len(test_dataset)}')"
      ]
    },
    {
      "cell_type": "code",
      "execution_count": 39,
      "metadata": {
        "id": "xa2cks4GI2BW"
      },
      "outputs": [],
      "source": [
        "def custom_collate_fn(batch):\n",
        "    for i in range(len(batch)):\n",
        "        if batch[i][0].size(0) == 1:  # Verifica se a imagem tem 1 canal (grayscale)\n",
        "            batch[i] = (batch[i][0].repeat(3, 1, 1), batch[i][1])  \n",
        "    return torch.utils.data.dataloader.default_collate(batch)\n",
        "\n",
        "train_dataloader = DataLoader(train_dataset, batch_size=batch_size, shuffle=True, num_workers=0, collate_fn=custom_collate_fn, drop_last=True)\n",
        "val_dataloader = DataLoader(val_dataset, batch_size=batch_size, shuffle=False, collate_fn=custom_collate_fn, num_workers=0)\n",
        "test_dataloader = DataLoader(test_dataset, batch_size=batch_size, shuffle=False, collate_fn=custom_collate_fn, num_workers=0)"
      ]
    },
    {
      "cell_type": "code",
      "execution_count": 41,
      "metadata": {
        "id": "kuPBLnyO9FbR"
      },
      "outputs": [],
      "source": [
        "class Caltech101(nn.Module):\n",
        "    def __init__(self, num_classes=101):  # 101 classes para o Caltech101\n",
        "        super(Caltech101, self).__init__()\n",
        "        self.features = nn.Sequential(\n",
        "            nn.Conv2d(3, 64, kernel_size=11, stride=4, padding=2),\n",
        "            nn.ReLU(inplace=True),\n",
        "            nn.MaxPool2d(kernel_size=3, stride=2),\n",
        "            nn.Conv2d(64, 192, kernel_size=5, padding=2),\n",
        "            nn.ReLU(inplace=True),\n",
        "            nn.MaxPool2d(kernel_size=3, stride=2),\n",
        "            nn.Conv2d(192, 384, kernel_size=3, padding=1),\n",
        "            nn.ReLU(inplace=True),\n",
        "            nn.Conv2d(384, 256, kernel_size=3, padding=1),\n",
        "            nn.ReLU(inplace=True),\n",
        "            nn.Conv2d(256, 256, kernel_size=3, padding=1),\n",
        "            nn.ReLU(inplace=True),\n",
        "            nn.MaxPool2d(kernel_size=3, stride=2),\n",
        "        )\n",
        "        self.classifier = nn.Sequential(\n",
        "            nn.Dropout(),\n",
        "            nn.Linear(256 * 6 * 6, 4096),\n",
        "            nn.ReLU(inplace=True),\n",
        "            nn.Dropout(),\n",
        "            nn.Linear(4096, 4096),\n",
        "            nn.ReLU(inplace=True),\n",
        "            nn.Linear(4096, num_classes),  # Saída ajustada para 101 classes\n",
        "        )\n",
        "\n",
        "    def forward(self, x):\n",
        "        x = self.features(x)\n",
        "        x = x.view(x.size(0), -1) \n",
        "        x = self.classifier(x)\n",
        "        return x"
      ]
    },
    {
      "cell_type": "code",
      "execution_count": 42,
      "metadata": {},
      "outputs": [],
      "source": [
        "from sklearn.metrics import classification_report\n",
        "\n",
        "# Função para calcular e imprimir o classification report\n",
        "def classification_report_per_class(outputs, labels):\n",
        "    return classification_report(labels.cpu(), outputs.cpu(), zero_division=0)"
      ]
    },
    {
      "cell_type": "code",
      "execution_count": 43,
      "metadata": {},
      "outputs": [
        {
          "name": "stdout",
          "output_type": "stream",
          "text": [
            "101\n"
          ]
        }
      ],
      "source": [
        "all_labels = []\n",
        "for _, labels in train_dataloader:\n",
        "    all_labels.extend(labels.numpy())\n",
        "\n",
        "# Obter o número total de classes\n",
        "num_classes = len(set(all_labels))\n",
        "print(num_class)"
      ]
    },
    {
      "cell_type": "code",
      "execution_count": 44,
      "metadata": {
        "colab": {
          "base_uri": "https://localhost:8080/"
        },
        "id": "RRFAMCP9I2BX",
        "outputId": "f0db164f-c81a-4e83-bd8b-400648ac726c"
      },
      "outputs": [
        {
          "name": "stdout",
          "output_type": "stream",
          "text": [
            "Época 1/20\n",
            "  Treino - Loss: 4.6001, Acurácia: 0.0069\n",
            "  Validação - Loss: 4.5516, Acurácia: 0.0150\n",
            "Época 2/20\n",
            "  Treino - Loss: 4.5875, Acurácia: 0.0156\n",
            "  Validação - Loss: 4.5905, Acurácia: 0.0046\n",
            "Época 3/20\n",
            "  Treino - Loss: 4.5630, Acurácia: 0.0160\n",
            "  Validação - Loss: 4.5223, Acurácia: 0.0069\n",
            "Época 4/20\n",
            "  Treino - Loss: 4.4940, Acurácia: 0.0212\n",
            "  Validação - Loss: 4.4302, Acurácia: 0.0254\n",
            "Época 5/20\n",
            "  Treino - Loss: 4.4007, Acurácia: 0.0259\n",
            "  Validação - Loss: 4.2572, Acurácia: 0.0461\n",
            "Época 6/20\n",
            "  Treino - Loss: 4.2673, Acurácia: 0.0405\n",
            "  Validação - Loss: 4.1832, Acurácia: 0.0657\n",
            "Época 7/20\n",
            "  Treino - Loss: 4.1333, Acurácia: 0.0631\n",
            "  Validação - Loss: 4.0431, Acurácia: 0.0888\n",
            "Época 8/20\n",
            "  Treino - Loss: 4.0034, Acurácia: 0.1076\n",
            "  Validação - Loss: 3.9333, Acurácia: 0.1165\n",
            "Época 9/20\n",
            "  Treino - Loss: 3.8304, Acurácia: 0.1402\n",
            "  Validação - Loss: 3.8949, Acurácia: 0.1696\n",
            "Época 10/20\n",
            "  Treino - Loss: 3.6746, Acurácia: 0.1889\n",
            "  Validação - Loss: 3.7341, Acurácia: 0.2122\n",
            "Época 11/20\n",
            "  Treino - Loss: 3.5209, Acurácia: 0.2262\n",
            "  Validação - Loss: 3.5601, Acurácia: 0.2572\n",
            "Época 12/20\n",
            "  Treino - Loss: 3.3354, Acurácia: 0.2707\n",
            "  Validação - Loss: 3.4800, Acurácia: 0.2699\n",
            "Época 13/20\n",
            "  Treino - Loss: 3.1701, Acurácia: 0.3063\n",
            "  Validação - Loss: 3.4708, Acurácia: 0.3183\n",
            "Época 14/20\n",
            "  Treino - Loss: 2.9938, Acurácia: 0.3523\n",
            "  Validação - Loss: 3.3356, Acurácia: 0.3391\n",
            "Época 15/20\n",
            "  Treino - Loss: 2.8489, Acurácia: 0.3693\n",
            "  Validação - Loss: 3.1867, Acurácia: 0.3552\n",
            "Época 16/20\n",
            "  Treino - Loss: 2.6012, Acurácia: 0.4262\n",
            "  Validação - Loss: 3.1587, Acurácia: 0.4118\n",
            "Época 17/20\n",
            "  Treino - Loss: 2.4376, Acurácia: 0.4556\n",
            "  Validação - Loss: 3.0680, Acurácia: 0.4360\n",
            "Época 18/20\n",
            "  Treino - Loss: 2.2245, Acurácia: 0.4949\n",
            "  Validação - Loss: 2.9281, Acurácia: 0.4625\n",
            "Época 19/20\n",
            "  Treino - Loss: 2.0193, Acurácia: 0.5309\n",
            "  Validação - Loss: 2.9952, Acurácia: 0.4245\n",
            "Época 20/20\n",
            "  Treino - Loss: 1.9106, Acurácia: 0.5450\n",
            "  Validação - Loss: 2.9877, Acurácia: 0.4579\n"
          ]
        }
      ],
      "source": [
        "import random\n",
        "from collections import Counter\n",
        "\n",
        "# Definindo a seed\n",
        "seed = 42\n",
        "random.seed(seed)\n",
        "\n",
        "torch.manual_seed(seed)\n",
        "torch.backends.cudnn.deterministic = True  # Para garantir que os resultados sejam determinísticos\n",
        "torch.backends.cudnn.benchmark = False  \n",
        "\n",
        "epoch_loss_train = []\n",
        "epoch_loss_val = []\n",
        "epoch_acc_val = []\n",
        "epoch_acc_train = []\n",
        "\n",
        "device = torch.device('cuda' if torch.cuda.is_available() else 'cpu')\n",
        "\n",
        "# Instanciar o modelo\n",
        "model = Caltech101().to(device)\n",
        "\n",
        "\n",
        "all_labels = []\n",
        "for _, labels in train_dataloader:\n",
        "    all_labels.extend(labels.numpy())  \n",
        "\n",
        "num_classes = len(set(all_labels))\n",
        "\n",
        "class_counts = Counter(all_labels)\n",
        "total_samples = sum(class_counts.values())\n",
        "class_weights = {cls: total_samples / count for cls, count in class_counts.items()}\n",
        "\n",
        "# Crie uma lista de pesos com um valor para cada classe\n",
        "weights = np.zeros(num_classes, dtype=np.float32)\n",
        "for cls, weight in class_weights.items():\n",
        "    weights[cls] = weight\n",
        "\n",
        "# Converter para tensor\n",
        "class_weights_tensor = torch.tensor(weights).to(device)\n",
        "\n",
        "# Definir a função de perda com pesos\n",
        "criterion = nn.CrossEntropyLoss(weight=class_weights_tensor)\n",
        "\n",
        "optimizer = optim.Adam(model.parameters(), lr=0.001)\n",
        "\n",
        "def calculate_accuracy(outputs, labels):\n",
        "    _, preds = torch.max(outputs, 1)\n",
        "    correct = (preds == labels).sum().item()\n",
        "    accuracy = correct / labels.size(0)\n",
        "    return accuracy\n",
        "\n",
        "for epoch in range(20):  # 20 épocas\n",
        "    model.train()\n",
        "    running_loss_train = 0.0\n",
        "    running_corrects_train = 0\n",
        "\n",
        "    for inputs, labels in train_dataloader: \n",
        "        inputs, labels = inputs.to(device), labels.to(device) \n",
        "        optimizer.zero_grad()  \n",
        "\n",
        "        # Forward\n",
        "        outputs = model(inputs)\n",
        "        loss = criterion(outputs, labels)\n",
        "\n",
        "        # Backward\n",
        "        loss.backward()\n",
        "        optimizer.step()\n",
        "\n",
        "        # Estatísticas\n",
        "        running_loss_train += loss.item() * inputs.size(0)  \n",
        "        running_corrects_train += (torch.max(outputs, 1)[1] == labels).sum().item()\n",
        "\n",
        "    epoch_loss_train.append(running_loss_train / len(train_dataloader.dataset))\n",
        "    epoch_acc_train.append(running_corrects_train / len(train_dataloader.dataset))\n",
        "\n",
        "    model.eval()\n",
        "    running_loss_val = 0.0\n",
        "    running_corrects_val = 0\n",
        "    all_preds = []\n",
        "    all_labels = []\n",
        "\n",
        "    with torch.no_grad():\n",
        "        for inputs, labels in val_dataloader:  \n",
        "            inputs, labels = inputs.to(device), labels.to(device) \n",
        "            outputs = model(inputs)\n",
        "            _, preds = torch.max(outputs, 1)  \n",
        "            loss = criterion(outputs, labels)\n",
        "            all_preds.append(preds)\n",
        "            all_labels.append(labels)\n",
        "\n",
        "            # Estatísticas\n",
        "            running_loss_val += loss.item() * inputs.size(0) \n",
        "            running_corrects_val += (torch.max(outputs, 1)[1] == labels).sum().item()\n",
        "\n",
        "    epoch_loss_val.append(running_loss_val / len(val_dataloader.dataset))\n",
        "    epoch_acc_val.append(running_corrects_val / len(val_dataloader.dataset))\n",
        "    all_preds = torch.cat(all_preds)\n",
        "    all_labels = torch.cat(all_labels)\n",
        "\n",
        "    # Imprimir as estatísticas de cada época\n",
        "    print(f\"Época {epoch+1}/20\")\n",
        "    print(f\"  Treino - Loss: {epoch_loss_train[-1]:.4f}, Acurácia: {epoch_acc_train[-1]:.4f}\")\n",
        "    print(f\"  Validação - Loss: {epoch_loss_val[-1]:.4f}, Acurácia: {epoch_acc_val[-1]:.4f}\")"
      ]
    },
    {
      "cell_type": "code",
      "execution_count": 45,
      "metadata": {},
      "outputs": [
        {
          "name": "stdout",
          "output_type": "stream",
          "text": [
            "              precision    recall  f1-score   support\n",
            "\n",
            "           0       0.82      0.82      0.82        51\n",
            "           1       0.93      0.93      0.93        40\n",
            "           2       0.56      0.74      0.64        19\n",
            "           3       0.92      0.81      0.86        72\n",
            "           4       0.33      1.00      0.50         2\n",
            "           5       0.90      0.71      0.79        76\n",
            "           6       0.14      0.33      0.20         3\n",
            "           7       0.00      0.00      0.00         1\n",
            "           8       0.00      0.00      0.00         6\n",
            "           9       0.00      0.00      0.00         9\n",
            "          10       0.00      0.00      0.00         4\n",
            "          11       0.33      0.25      0.29         4\n",
            "          12       0.80      0.21      0.33        19\n",
            "          13       0.25      0.14      0.18         7\n",
            "          14       0.00      0.00      0.00         2\n",
            "          15       0.30      0.33      0.32         9\n",
            "          16       0.80      0.80      0.80         5\n",
            "          17       0.00      0.00      0.00         4\n",
            "          18       0.00      0.00      0.00         1\n",
            "          19       0.29      0.91      0.44        11\n",
            "          20       0.50      0.25      0.33         4\n",
            "          21       0.58      0.70      0.64        10\n",
            "          22       0.00      0.00      0.00         6\n",
            "          23       0.33      0.06      0.10        17\n",
            "          24       0.00      0.00      0.00         2\n",
            "          25       0.40      0.40      0.40         5\n",
            "          26       0.00      0.00      0.00         7\n",
            "          27       0.60      0.25      0.35        12\n",
            "          28       0.00      0.00      0.00         5\n",
            "          29       0.33      0.17      0.22         6\n",
            "          30       0.00      0.00      0.00         4\n",
            "          31       0.17      0.29      0.21         7\n",
            "          32       0.57      0.50      0.53         8\n",
            "          33       0.08      0.12      0.10         8\n",
            "          34       0.00      0.00      0.00         4\n",
            "          35       0.27      0.50      0.35         6\n",
            "          36       0.00      0.00      0.00         6\n",
            "          37       0.09      0.25      0.13         4\n",
            "          38       0.20      0.25      0.22         4\n",
            "          39       0.00      0.00      0.00        10\n",
            "          40       0.12      0.14      0.13         7\n",
            "          41       0.23      0.38      0.29         8\n",
            "          42       0.15      0.50      0.23         6\n",
            "          43       0.75      0.60      0.67         5\n",
            "          44       0.00      0.00      0.00         4\n",
            "          45       0.40      0.40      0.40         5\n",
            "          46       0.55      0.60      0.57        10\n",
            "          47       0.21      0.67      0.32         6\n",
            "          48       0.25      0.33      0.29         3\n",
            "          49       0.10      0.20      0.13         5\n",
            "          50       0.20      0.25      0.22         8\n",
            "          51       0.17      0.14      0.15         7\n",
            "          52       0.10      1.00      0.18         1\n",
            "          53       0.50      0.29      0.36         7\n",
            "          54       0.00      0.00      0.00         7\n",
            "          55       0.64      0.64      0.64        14\n",
            "          56       0.00      0.00      0.00         7\n",
            "          57       0.50      0.33      0.40         6\n",
            "          58       0.14      0.25      0.18         8\n",
            "          59       0.50      0.67      0.57         3\n",
            "          60       0.60      0.27      0.38        11\n",
            "          61       0.56      0.71      0.62         7\n",
            "          62       0.17      0.11      0.13         9\n",
            "          63       0.57      0.44      0.50         9\n",
            "          64       0.67      0.67      0.67         3\n",
            "          65       1.00      0.67      0.80         9\n",
            "          66       0.00      0.00      0.00         2\n",
            "          67       0.50      0.50      0.50         4\n",
            "          68       0.36      0.56      0.43         9\n",
            "          69       1.00      0.50      0.67         6\n",
            "          70       0.00      0.00      0.00         5\n",
            "          71       0.25      1.00      0.40         4\n",
            "          72       1.00      0.33      0.50         6\n",
            "          73       0.12      0.12      0.12         8\n",
            "          74       1.00      0.17      0.29         6\n",
            "          75       0.42      0.57      0.48        14\n",
            "          76       0.17      0.29      0.21         7\n",
            "          77       1.00      0.33      0.50         3\n",
            "          78       0.20      0.20      0.20         5\n",
            "          79       0.50      0.50      0.50         4\n",
            "          80       0.00      0.00      0.00         1\n",
            "          81       0.25      0.09      0.13        11\n",
            "          82       0.00      0.00      0.00         5\n",
            "          83       0.50      0.20      0.29         5\n",
            "          84       0.43      0.38      0.40         8\n",
            "          85       0.12      0.50      0.20         2\n",
            "          86       0.43      0.30      0.35        10\n",
            "          87       1.00      0.11      0.20         9\n",
            "          88       1.00      0.44      0.62         9\n",
            "          89       0.50      0.25      0.33         4\n",
            "          90       1.00      0.80      0.89         5\n",
            "          91       1.00      0.20      0.33         5\n",
            "          92       0.67      0.80      0.73         5\n",
            "          93       0.67      0.22      0.33         9\n",
            "          94       0.50      0.22      0.31        18\n",
            "          95       0.15      0.40      0.22         5\n",
            "          96       0.00      0.00      0.00         1\n",
            "          97       0.00      0.00      0.00         1\n",
            "          98       0.60      0.75      0.67         4\n",
            "          99       0.50      0.40      0.44         5\n",
            "         100       0.57      0.57      0.57         7\n",
            "\n",
            "    accuracy                           0.46       867\n",
            "   macro avg       0.37      0.33      0.31       867\n",
            "weighted avg       0.53      0.46      0.46       867\n",
            "\n"
          ]
        }
      ],
      "source": [
        "print(classification_report_per_class(all_preds, all_labels))"
      ]
    },
    {
      "cell_type": "code",
      "execution_count": 46,
      "metadata": {
        "colab": {
          "base_uri": "https://localhost:8080/",
          "height": 1000
        },
        "id": "IKCol302w8ic",
        "outputId": "bed4935f-c6d8-41be-f8d7-0214111e2cff"
      },
      "outputs": [
        {
          "data": {
            "image/png": "[encoded data removed]",
            "text/plain": [
              "<Figure size 800x500 with 1 Axes>"
            ]
          },
          "metadata": {},
          "output_type": "display_data"
        },
        {
          "data": {
            "image/png": "[encoded data removed]",
            "text/plain": [
              "<Figure size 800x500 with 1 Axes>"
            ]
          },
          "metadata": {},
          "output_type": "display_data"
        }
      ],
      "source": [
        "fig, ax = plt.subplots(nrows=1, ncols=1, figsize=(8,5))\n",
        "\n",
        "epochs = [i for i in range(1, num_epochs+1)]\n",
        "ax.plot(epochs, epoch_loss_train, linestyle='-', marker='*', label='Training loss')\n",
        "ax.plot(epochs, epoch_loss_val, linestyle='-', marker='*', label='Validation loss')\n",
        "\n",
        "ax.set_xlabel('Epochs', labelpad=12, fontweight='bold')\n",
        "ax.set_ylabel('Cross Entropy Loss', labelpad=12, rotation=90, fontweight='bold')\n",
        "\n",
        "ax.set_title('Loss during gradient descent', pad=20, fontweight='bold')\n",
        "\n",
        "ax.legend()\n",
        "plt.grid(alpha=0.3)\n",
        "plt.show()\n",
        "\n",
        "fig, ax = plt.subplots(nrows=1, ncols=1, figsize=(8,5))\n",
        "\n",
        "epochs = [i for i in range(1, num_epochs+1)]\n",
        "ax.plot(epochs, epoch_acc_train, color='#7B1FA2', linestyle='-', marker='*', label='Training accuracy')\n",
        "ax.plot(epochs, epoch_acc_val, color='#FFC107', linestyle='-', marker='*', label='Validation accuracy')\n",
        "\n",
        "ax.set_xlabel('Epochs', labelpad=12, fontweight='bold')\n",
        "ax.set_ylabel('Accuracy', labelpad=12, rotation=90, fontweight='bold')\n",
        "\n",
        "ax.set_title('Accuracy during gradient descent', pad=20, fontweight='bold')\n",
        "\n",
        "ax.legend()\n",
        "plt.grid(alpha=0.3)\n",
        "plt.show()"
      ]
    },
    {
      "cell_type": "code",
      "execution_count": 47,
      "metadata": {},
      "outputs": [],
      "source": [
        "from sklearn.metrics import precision_score, recall_score, f1_score\n",
        "\n",
        "def precision(outputs, labels):\n",
        "    return precision_score(labels.cpu(), outputs.cpu(), average='weighted', zero_division=0)\n",
        "\n",
        "def recall(outputs, labels):\n",
        "    return recall_score(labels.cpu(), outputs.cpu(), average='weighted', zero_division=0)\n",
        "\n",
        "def f1(outputs, labels):\n",
        "    return f1_score(labels.cpu(), outputs.cpu(), average='weighted', zero_division=0)"
      ]
    },
    {
      "cell_type": "code",
      "execution_count": 48,
      "metadata": {},
      "outputs": [],
      "source": [
        "def evaluate_on_test(model, test_dataloader, device):\n",
        "    model.eval()  # Colocar o modelo em modo de avaliação\n",
        "    test_running_loss = 0.0\n",
        "    test_running_corrects = 0\n",
        "    all_preds = []\n",
        "    all_labels = []\n",
        "\n",
        "    criterion = nn.CrossEntropyLoss()\n",
        "\n",
        "    with torch.no_grad():  \n",
        "        for inputs, labels in test_dataloader:\n",
        "            inputs, labels = inputs.to(device), labels.to(device)\n",
        "            \n",
        "            # Forward pass\n",
        "            outputs = model(inputs)\n",
        "            loss = criterion(outputs, labels)\n",
        "\n",
        "            # Predições\n",
        "            _, preds = torch.max(outputs, 1)\n",
        "            all_preds.append(preds)\n",
        "            all_labels.append(labels)\n",
        "            \n",
        "            test_running_loss += loss.item() * inputs.size(0)\n",
        "            test_running_corrects += (preds == labels).sum().item()\n",
        "\n",
        "    test_loss = test_running_loss / len(test_dataloader.dataset)\n",
        "    test_acc = test_running_corrects / len(test_dataloader.dataset)\n",
        "\n",
        "    all_preds = torch.cat(all_preds)\n",
        "    all_labels = torch.cat(all_labels)\n",
        "\n",
        "    test_precision = precision(all_preds, all_labels)\n",
        "    test_recall = recall(all_preds, all_labels)\n",
        "    test_f1 = f1(all_preds, all_labels)\n",
        "\n",
        "    print(f\"Teste - Loss: {test_loss:.4f}, Acurácia: {test_acc:.4f}\")\n",
        "    print(f\"Precisão: {test_precision:.4f}, Recall: {test_recall:.4f}, F1-Score: {test_f1:.4f}\")\n",
        "\n",
        "    return test_loss, test_acc, test_precision, test_recall, test_f1"
      ]
    },
    {
      "cell_type": "code",
      "execution_count": 49,
      "metadata": {},
      "outputs": [
        {
          "name": "stdout",
          "output_type": "stream",
          "text": [
            "Teste - Loss: 2.3470, Acurácia: 0.4787\n",
            "Precisão: 0.5217, Recall: 0.4787, F1-Score: 0.4840\n"
          ]
        }
      ],
      "source": [
        "test_loss, test_acc, test_precision, test_recall, test_f1 = evaluate_on_test(model, test_dataloader, device)"
      ]
    },
    {
      "cell_type": "code",
      "execution_count": 67,
      "metadata": {},
      "outputs": [
        {
          "name": "stdout",
          "output_type": "stream",
          "text": [
            "Número de classes com Precision = 0: 24\n",
            "Classes com Precision = 0: [7, 8, 9, 10, 14, 17, 18, 22, 24, 26, 28, 30, 34, 36, 39, 44, 54, 56, 66, 70, 80, 82, 96, 97]\n",
            "Número de classes com Recall = 0: 24\n",
            "Classes com Recall = 0: [7, 8, 9, 10, 14, 17, 18, 22, 24, 26, 28, 30, 34, 36, 39, 44, 54, 56, 66, 70, 80, 82, 96, 97]\n",
            "Número de classes com Precision e Recall = 0: 24\n",
            "Classes com Precision e Recall = 0: {7, 8, 9, 10, 14, 17, 18, 22, 24, 26, 28, 30, 34, 36, 39, 44, 54, 56, 66, 70, 80, 82, 96, 97}\n"
          ]
        }
      ],
      "source": [
        "def count_zero_precision_recall(y_true, y_pred, num_classes=101):\n",
        "    precision = []\n",
        "    recall = []\n",
        "\n",
        "    y_true = np.array(y_true)\n",
        "    y_pred = np.array(y_pred)\n",
        "\n",
        "    for class_label in range(num_classes):\n",
        "        precision_value = precision_score(y_true, y_pred, labels=[class_label], average='macro', zero_division=0)\n",
        "        recall_value = recall_score(y_true, y_pred, labels=[class_label], average='macro', zero_division=0)\n",
        "        precision.append(precision_value)\n",
        "        recall.append(recall_value)\n",
        "\n",
        "    precision = np.array(precision)\n",
        "    recall = np.array(recall)\n",
        "\n",
        "    zero_precision_classes = [i for i in range(num_classes) if precision[i] == 0]\n",
        "    zero_recall_classes = [i for i in range(num_classes) if recall[i] == 0]\n",
        "    \n",
        "    print(f\"Número de classes com Precision = 0: {len(zero_precision_classes)}\")\n",
        "    print(f\"Classes com Precision = 0: {zero_precision_classes}\")\n",
        "\n",
        "    print(f\"Número de classes com Recall = 0: {len(zero_recall_classes)}\")\n",
        "    print(f\"Classes com Recall = 0: {zero_recall_classes}\")\n",
        "\n",
        "    zero_classes = set(zero_precision_classes) & set(zero_recall_classes)\n",
        "    print(f\"Número de classes com Precision e Recall = 0: {len(zero_classes)}\")\n",
        "    print(f\"Classes com Precision e Recall = 0: {zero_classes}\")\n",
        "    \n",
        "count_zero_precision_recall(all_labels.cpu(),all_preds.cpu(), num_classes=101)"
      ]
    }
  ],
  "metadata": {
    "accelerator": "TPU",
    "colab": {
      "gpuType": "V28",
      "provenance": []
    },
    "kernelspec": {
      "display_name": "Python 3",
      "name": "python3"
    },
    "language_info": {
      "codemirror_mode": {
        "name": "ipython",
        "version": 3
      },
      "file_extension": ".py",
      "mimetype": "text/x-python",
      "name": "python",
      "nbconvert_exporter": "python",
      "pygments_lexer": "ipython3",
      "version": "3.11.9"
    }
  },
  "nbformat": 4,
  "nbformat_minor": 0
}
