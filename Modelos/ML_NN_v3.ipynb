{
  "cells": [
    {
      "cell_type": "code",
      "execution_count": 104,
      "metadata": {
        "id": "K8EZj-1iI2BR"
      },
      "outputs": [],
      "source": [
        "import os\n",
        "import logging\n",
        "import sys\n",
        "\n",
        "import matplotlib.pyplot as plt\n",
        "import numpy as np\n",
        "from sklearn.model_selection import train_test_split\n",
        "from imblearn.over_sampling import SMOTE\n",
        "\n",
        "import torch\n",
        "import torch.nn as nn\n",
        "import torch.nn.functional as F\n",
        "import torch.optim as optim\n",
        "from torch.utils.data import Subset, DataLoader, TensorDataset, ConcatDataset, Dataset\n",
        "from torch.backends import cudnn\n",
        "\n",
        "import torchvision\n",
        "from torchvision import datasets, transforms\n",
        "from torchvision.models import alexnet\n",
        "from torchvision.models import resnet18\n",
        "from torchvision.models import vgg11\n",
        "\n",
        "from PIL import Image\n",
        "from tqdm import tqdm\n",
        "from collections import Counter\n",
        "import random\n"
      ]
    },
    {
      "cell_type": "code",
      "execution_count": 105,
      "metadata": {
        "id": "kh8loLPgI2BU"
      },
      "outputs": [],
      "source": [
        "device = 'cuda' \n",
        "num_class = 101 \n",
        "batch_size = 256    \n",
        "num_epochs = 20     \n",
        "step_size =  6     "
      ]
    },
    {
      "cell_type": "code",
      "execution_count": 106,
      "metadata": {
        "id": "BejjdohgI2BV"
      },
      "outputs": [],
      "source": [
        "def imgshow(img):\n",
        "    npimg = img.numpy()\n",
        "    plt.imshow(np.transpose(npimg, (1, 2, 0)))\n",
        "    plt.show()\n",
        "\n",
        "    return"
      ]
    },
    {
      "cell_type": "code",
      "execution_count": 107,
      "metadata": {
        "colab": {
          "base_uri": "https://localhost:8080/"
        },
        "id": "dauW7KbrI2BV",
        "outputId": "18324a29-d73a-4343-a001-f8206b566ac0"
      },
      "outputs": [
        {
          "name": "stdout",
          "output_type": "stream",
          "text": [
            "Files already downloaded and verified\n",
            "Contagem de amostras por classe: Counter({5: 800, 3: 798, 0: 435, 1: 435, 94: 239, 2: 200, 12: 128, 19: 123, 55: 114, 23: 107, 47: 100, 46: 99, 13: 98, 16: 91, 50: 88, 63: 87, 54: 86, 86: 86, 92: 86, 15: 85, 39: 85, 90: 85, 81: 84, 75: 82, 57: 81, 51: 80, 58: 78, 65: 76, 35: 75, 93: 75, 26: 73, 27: 70, 25: 69, 34: 68, 31: 67, 40: 67, 41: 67, 60: 66, 33: 65, 36: 64, 38: 64, 53: 64, 84: 64, 88: 64, 79: 63, 22: 62, 56: 61, 100: 60, 21: 59, 76: 59, 87: 59, 96: 59, 30: 57, 74: 57, 82: 57, 98: 56, 4: 55, 66: 55, 9: 54, 49: 54, 37: 53, 72: 53, 32: 52, 29: 51, 45: 51, 17: 50, 28: 50, 77: 49, 91: 49, 8: 47, 20: 47, 24: 47, 69: 47, 10: 46, 42: 45, 71: 45, 85: 45, 14: 43, 18: 43, 61: 43, 6: 42, 7: 42, 48: 42, 59: 41, 62: 40, 78: 40, 68: 39, 80: 39, 99: 39, 70: 38, 95: 37, 67: 35, 83: 35, 89: 35, 43: 34, 44: 34, 73: 34, 97: 34, 11: 33, 64: 32, 52: 31})\n",
            "Foram geradas 2744 novas amostras aumentadas.\n"
          ]
        }
      ],
      "source": [
        "transform = transforms.Compose([\n",
        "    transforms.Resize((224, 224)),  # Redimensionando as imagens para 224x224\n",
        "    transforms.ToTensor(),\n",
        "])\n",
        "\n",
        "# Carregar o dataset Caltech101\n",
        "caltech101_dataset = datasets.Caltech101(\n",
        "    root='C:/Users/Usuário/Desktop/machine/Trabalho_3',\n",
        "    download=True,\n",
        "    transform=transform\n",
        ")\n",
        "\n",
        "# Obter rótulos do dataset\n",
        "labels = [target for _, target in caltech101_dataset]\n",
        "\n",
        "# Contar amostras por classe\n",
        "class_counts = Counter(labels)\n",
        "print(\"Contagem de amostras por classe:\", class_counts)\n",
        "\n",
        "# Definir limite para classes minoritárias\n",
        "threshold = 50 \n",
        "minority_classes = [cls for cls, count in class_counts.items() if count < threshold]\n",
        "\n",
        "# Criar um novo dataset com aumento de dados para as classes minoritárias\n",
        "class AugmentedCaltech101(Dataset):\n",
        "    def __init__(self, dataset, minority_classes):\n",
        "        self.dataset = dataset\n",
        "        self.minority_classes = minority_classes\n",
        "        self.augmented_samples = []\n",
        "        self.augmented_labels = []\n",
        "        self.augment_data()\n",
        "\n",
        "    def __len__(self):\n",
        "        return len(self.dataset) + len(self.augmented_samples)\n",
        "\n",
        "    def __getitem__(self, idx):\n",
        "        if idx < len(self.dataset):\n",
        "            return self.dataset[idx]  # Retorna amostra original\n",
        "        \n",
        "        return self.augmented_samples[idx - len(self.dataset)], self.augmented_labels[idx - len(self.dataset)]\n",
        "\n",
        "    def augment_data(self):\n",
        "        for idx, (image, label) in enumerate(self.dataset):\n",
        "            if label in self.minority_classes:\n",
        "                for _ in range(2):  # Criar 2 amostras aumentadas\n",
        "                    augmented_image = image.clone() \n",
        "                    augmented_image += torch.randn_like(image) * 0.1  # Adicionando ruído\n",
        "                    augmented_image = torch.clamp(augmented_image, 0, 1) \n",
        "                    self.augmented_samples.append(augmented_image)\n",
        "                    self.augmented_labels.append(label)\n",
        "\n",
        "        print(f\"Foram geradas {len(self.augmented_samples)} novas amostras aumentadas.\")\n",
        "\n",
        "# Criar o dataset aumentado\n",
        "augmented_dataset = AugmentedCaltech101(caltech101_dataset, minority_classes)"
      ]
    },
    {
      "cell_type": "code",
      "execution_count": 108,
      "metadata": {
        "colab": {
          "base_uri": "https://localhost:8080/"
        },
        "id": "6OwA0VekI2BW",
        "outputId": "d5294b3a-8c73-45b4-ec94-14a7caf0e567"
      },
      "outputs": [
        {
          "name": "stdout",
          "output_type": "stream",
          "text": [
            "Tamanho do treino: 9136\n",
            "Tamanho da validação: 1142\n",
            "Tamanho do teste: 1143\n"
          ]
        }
      ],
      "source": [
        "data_dir = 'C:/Users/Usuário/Desktop/machine/Trabalho_3/caltech101/101_ObjectCategories'\n",
        "\n",
        "from torch.utils.data import random_split\n",
        "\n",
        "dataset_size = len(augmented_dataset)  # Tamanho total do dataset\n",
        "\n",
        "train_size = int(0.8 * dataset_size)  # 80% para treino\n",
        "val_size = int(0.1 * dataset_size)    # 10% para validação\n",
        "test_size = dataset_size - train_size - val_size  # O restante para teste (10%)\n",
        "\n",
        "# Dividindo o dataset completo em treino, validação e teste\n",
        "train_dataset, val_dataset, test_dataset = random_split(augmented_dataset, [train_size, val_size, test_size])\n",
        "\n",
        "print(f'Tamanho do treino: {len(train_dataset)}')\n",
        "print(f'Tamanho da validação: {len(val_dataset)}')\n",
        "print(f'Tamanho do teste: {len(test_dataset)}')"
      ]
    },
    {
      "cell_type": "code",
      "execution_count": 109,
      "metadata": {
        "id": "xa2cks4GI2BW"
      },
      "outputs": [],
      "source": [
        "def custom_collate_fn(batch):\n",
        "    for i in range(len(batch)):\n",
        "        if batch[i][0].size(0) == 1:  # Verifica se a imagem tem 1 canal (grayscale)\n",
        "            batch[i] = (batch[i][0].repeat(3, 1, 1), batch[i][1])\n",
        "    return torch.utils.data.dataloader.default_collate(batch)\n",
        "\n",
        "train_dataloader = DataLoader(train_dataset, batch_size=batch_size, shuffle=True, num_workers=0, collate_fn=custom_collate_fn, drop_last=True)\n",
        "val_dataloader = DataLoader(val_dataset, batch_size=batch_size, shuffle=False, collate_fn=custom_collate_fn, num_workers=0)\n",
        "test_dataloader = DataLoader(test_dataset, batch_size=batch_size, shuffle=False, collate_fn=custom_collate_fn, num_workers=0)"
      ]
    },
    {
      "cell_type": "code",
      "execution_count": 110,
      "metadata": {
        "id": "kuPBLnyO9FbR"
      },
      "outputs": [],
      "source": [
        "class Caltech101(nn.Module):\n",
        "    def __init__(self, num_classes=101):  # 101 classes para o Caltech101\n",
        "        super(Caltech101, self).__init__()\n",
        "        self.features = nn.Sequential(\n",
        "            nn.Conv2d(3, 64, kernel_size=11, stride=4, padding=2),\n",
        "            nn.ReLU(inplace=True),\n",
        "            nn.MaxPool2d(kernel_size=3, stride=2),\n",
        "            nn.Conv2d(64, 192, kernel_size=5, padding=2),\n",
        "            nn.ReLU(inplace=True),\n",
        "            nn.MaxPool2d(kernel_size=3, stride=2),\n",
        "            nn.Conv2d(192, 384, kernel_size=3, padding=1),\n",
        "            nn.ReLU(inplace=True),\n",
        "            nn.Conv2d(384, 256, kernel_size=3, padding=1),\n",
        "            nn.ReLU(inplace=True),\n",
        "            nn.Conv2d(256, 256, kernel_size=3, padding=1),\n",
        "            nn.ReLU(inplace=True),\n",
        "            nn.MaxPool2d(kernel_size=3, stride=2),\n",
        "        )\n",
        "        self.classifier = nn.Sequential(\n",
        "            nn.Dropout(),\n",
        "            nn.Linear(256 * 6 * 6, 4096),\n",
        "            nn.ReLU(inplace=True),\n",
        "            nn.Dropout(),\n",
        "            nn.Linear(4096, 4096),\n",
        "            nn.ReLU(inplace=True),\n",
        "            nn.Linear(4096, num_classes),  # Saída ajustada para 101 classes\n",
        "        )\n",
        "\n",
        "    def forward(self, x):\n",
        "        x = self.features(x)\n",
        "        x = x.view(x.size(0), -1) \n",
        "        x = self.classifier(x)\n",
        "        return x"
      ]
    },
    {
      "cell_type": "code",
      "execution_count": 111,
      "metadata": {},
      "outputs": [],
      "source": [
        "from sklearn.metrics import classification_report\n",
        "\n",
        "# Função para calcular e imprimir o classification report\n",
        "def classification_report_per_class(outputs, labels):\n",
        "    return classification_report(labels.cpu(), outputs.cpu(), zero_division=0)"
      ]
    },
    {
      "cell_type": "code",
      "execution_count": 112,
      "metadata": {},
      "outputs": [
        {
          "name": "stdout",
          "output_type": "stream",
          "text": [
            "101\n"
          ]
        }
      ],
      "source": [
        "all_labels = []\n",
        "for _, labels in train_dataloader:\n",
        "    all_labels.extend(labels.numpy())\n",
        "\n",
        "# Obter o número total de classes\n",
        "num_classes = len(set(all_labels))\n",
        "print(num_class)"
      ]
    },
    {
      "cell_type": "code",
      "execution_count": 113,
      "metadata": {
        "colab": {
          "base_uri": "https://localhost:8080/"
        },
        "id": "RRFAMCP9I2BX",
        "outputId": "f0db164f-c81a-4e83-bd8b-400648ac726c"
      },
      "outputs": [
        {
          "name": "stdout",
          "output_type": "stream",
          "text": [
            "Época 1/20\n",
            "  Treino - Loss: 4.3595, Acurácia: 0.0872\n",
            "  Validação - Loss: 4.3546, Acurácia: 0.0989\n",
            "Época 2/20\n",
            "  Treino - Loss: 4.0060, Acurácia: 0.1229\n",
            "  Validação - Loss: 3.9092, Acurácia: 0.1270\n",
            "Época 3/20\n",
            "  Treino - Loss: 3.7889, Acurácia: 0.1583\n",
            "  Validação - Loss: 3.7450, Acurácia: 0.1830\n",
            "Época 4/20\n",
            "  Treino - Loss: 3.5109, Acurácia: 0.2013\n",
            "  Validação - Loss: 3.4062, Acurácia: 0.2277\n",
            "Época 5/20\n",
            "  Treino - Loss: 3.2012, Acurácia: 0.2576\n",
            "  Validação - Loss: 3.1256, Acurácia: 0.2802\n",
            "Época 6/20\n",
            "  Treino - Loss: 2.9419, Acurácia: 0.3051\n",
            "  Validação - Loss: 2.8596, Acurácia: 0.3371\n",
            "Época 7/20\n",
            "  Treino - Loss: 2.6502, Acurácia: 0.3552\n",
            "  Validação - Loss: 2.6776, Acurácia: 0.3818\n",
            "Época 8/20\n",
            "  Treino - Loss: 2.3858, Acurácia: 0.4094\n",
            "  Validação - Loss: 2.5312, Acurácia: 0.3993\n",
            "Época 9/20\n",
            "  Treino - Loss: 2.1910, Acurácia: 0.4469\n",
            "  Validação - Loss: 2.1850, Acurácia: 0.4921\n",
            "Época 10/20\n",
            "  Treino - Loss: 1.9173, Acurácia: 0.4997\n",
            "  Validação - Loss: 2.0377, Acurácia: 0.5114\n",
            "Época 11/20\n",
            "  Treino - Loss: 1.7158, Acurácia: 0.5378\n",
            "  Validação - Loss: 1.8705, Acurácia: 0.5534\n",
            "Época 12/20\n",
            "  Treino - Loss: 1.5047, Acurácia: 0.5867\n",
            "  Validação - Loss: 1.8276, Acurácia: 0.5543\n",
            "Época 13/20\n",
            "  Treino - Loss: 1.3612, Acurácia: 0.6202\n",
            "  Validação - Loss: 1.6134, Acurácia: 0.6261\n",
            "Época 14/20\n",
            "  Treino - Loss: 1.1557, Acurácia: 0.6663\n",
            "  Validação - Loss: 1.5215, Acurácia: 0.6506\n",
            "Época 15/20\n",
            "  Treino - Loss: 1.0346, Acurácia: 0.6979\n",
            "  Validação - Loss: 1.4643, Acurácia: 0.6690\n",
            "Época 16/20\n",
            "  Treino - Loss: 0.8819, Acurácia: 0.7350\n",
            "  Validação - Loss: 1.4233, Acurácia: 0.6664\n",
            "Época 17/20\n",
            "  Treino - Loss: 0.8232, Acurácia: 0.7480\n",
            "  Validação - Loss: 1.4711, Acurácia: 0.6769\n",
            "Época 18/20\n",
            "  Treino - Loss: 0.6904, Acurácia: 0.7825\n",
            "  Validação - Loss: 1.3656, Acurácia: 0.7137\n",
            "Época 19/20\n",
            "  Treino - Loss: 0.5982, Acurácia: 0.8043\n",
            "  Validação - Loss: 1.3505, Acurácia: 0.7207\n",
            "Época 20/20\n",
            "  Treino - Loss: 0.5130, Acurácia: 0.8272\n",
            "  Validação - Loss: 1.3086, Acurácia: 0.7268\n"
          ]
        }
      ],
      "source": [
        "# Definindo a seed\n",
        "seed = 42\n",
        "random.seed(seed)\n",
        "\n",
        "torch.manual_seed(seed)\n",
        "torch.backends.cudnn.deterministic = True  # Para garantir que os resultados sejam determinísticos\n",
        "torch.backends.cudnn.benchmark = False  \n",
        "\n",
        "epoch_loss_train = []\n",
        "epoch_loss_val = []\n",
        "epoch_acc_val = []\n",
        "epoch_acc_train = []\n",
        "\n",
        "device = torch.device('cuda' if torch.cuda.is_available() else 'cpu')\n",
        "\n",
        "# Instanciar o modelo\n",
        "model = Caltech101().to(device)\n",
        "\n",
        "# Definir a função de perda e o otimizador\n",
        "criterion = nn.CrossEntropyLoss() \n",
        "optimizer = optim.Adam(model.parameters(), lr=0.001)\n",
        "\n",
        "def calculate_accuracy(outputs, labels):\n",
        "    _, preds = torch.max(outputs, 1)\n",
        "    correct = (preds == labels).sum().item()\n",
        "    accuracy = correct / labels.size(0)\n",
        "    return accuracy\n",
        "\n",
        "for epoch in range(20):  # 20 épocas\n",
        "    model.train()\n",
        "    running_loss_train = 0.0\n",
        "    running_corrects_train = 0\n",
        "\n",
        "    for inputs, labels in train_dataloader:  \n",
        "        inputs, labels = inputs.to(device), labels.to(device) \n",
        "        optimizer.zero_grad()  # Zerar gradientes\n",
        "\n",
        "        # Forward\n",
        "        outputs = model(inputs)\n",
        "        loss = criterion(outputs, labels)\n",
        "\n",
        "        # Backward\n",
        "        loss.backward()\n",
        "        optimizer.step()\n",
        "\n",
        "        # Estatísticas\n",
        "        running_loss_train += loss.item() * inputs.size(0) \n",
        "        running_corrects_train += (torch.max(outputs, 1)[1] == labels).sum().item()\n",
        "\n",
        "    epoch_loss_train.append(running_loss_train / len(train_dataloader.dataset))\n",
        "    epoch_acc_train.append(running_corrects_train / len(train_dataloader.dataset))\n",
        "\n",
        "    model.eval()\n",
        "    running_loss_val = 0.0\n",
        "    running_corrects_val = 0\n",
        "    all_preds = []\n",
        "    all_labels = []\n",
        "\n",
        "    with torch.no_grad():\n",
        "        for inputs, labels in val_dataloader:  \n",
        "            inputs, labels = inputs.to(device), labels.to(device) \n",
        "            outputs = model(inputs)\n",
        "            _, preds = torch.max(outputs, 1) \n",
        "            loss = criterion(outputs, labels)\n",
        "            all_preds.append(preds)\n",
        "            all_labels.append(labels)\n",
        "\n",
        "            # Estatísticas\n",
        "            running_loss_val += loss.item() * inputs.size(0) \n",
        "            running_corrects_val += (torch.max(outputs, 1)[1] == labels).sum().item()\n",
        "\n",
        "    epoch_loss_val.append(running_loss_val / len(val_dataloader.dataset))\n",
        "    epoch_acc_val.append(running_corrects_val / len(val_dataloader.dataset))\n",
        "    all_preds = torch.cat(all_preds)\n",
        "    all_labels = torch.cat(all_labels)\n",
        "\n",
        "    # Imprimir as estatísticas de cada época\n",
        "    print(f\"Época {epoch+1}/20\")\n",
        "    print(f\"  Treino - Loss: {epoch_loss_train[-1]:.4f}, Acurácia: {epoch_acc_train[-1]:.4f}\")\n",
        "    print(f\"  Validação - Loss: {epoch_loss_val[-1]:.4f}, Acurácia: {epoch_acc_val[-1]:.4f}\")"
      ]
    },
    {
      "cell_type": "code",
      "execution_count": 114,
      "metadata": {},
      "outputs": [
        {
          "name": "stdout",
          "output_type": "stream",
          "text": [
            "              precision    recall  f1-score   support\n",
            "\n",
            "           0       0.86      0.96      0.91        45\n",
            "           1       0.98      0.98      0.98        53\n",
            "           2       0.79      0.96      0.87        24\n",
            "           3       0.94      0.99      0.96        81\n",
            "           4       0.60      0.75      0.67         4\n",
            "           5       0.94      0.93      0.94        71\n",
            "           6       0.86      0.86      0.86        14\n",
            "           7       0.90      0.60      0.72        15\n",
            "           8       0.52      0.79      0.63        14\n",
            "           9       0.00      0.00      0.00         8\n",
            "          10       0.38      0.86      0.52         7\n",
            "          11       0.57      0.89      0.70         9\n",
            "          12       0.83      0.45      0.59        11\n",
            "          13       0.67      0.50      0.57         8\n",
            "          14       0.64      0.78      0.70         9\n",
            "          15       0.43      0.33      0.38         9\n",
            "          16       0.25      0.12      0.17         8\n",
            "          17       0.33      0.25      0.29         4\n",
            "          18       0.78      1.00      0.88        14\n",
            "          19       1.00      1.00      1.00        12\n",
            "          20       0.58      0.92      0.71        12\n",
            "          21       0.33      0.33      0.33         6\n",
            "          22       0.00      0.00      0.00         8\n",
            "          23       0.70      0.50      0.58        14\n",
            "          24       0.88      0.88      0.88        16\n",
            "          25       0.25      0.12      0.17         8\n",
            "          26       0.50      0.09      0.15        11\n",
            "          27       0.29      0.14      0.19        14\n",
            "          28       0.00      0.00      0.00         5\n",
            "          29       0.00      0.00      0.00         4\n",
            "          30       0.43      0.43      0.43         7\n",
            "          31       1.00      0.17      0.29         6\n",
            "          32       0.30      0.75      0.43         4\n",
            "          33       0.22      0.67      0.33         3\n",
            "          34       0.57      0.57      0.57         7\n",
            "          35       0.75      0.50      0.60         6\n",
            "          36       0.67      0.18      0.29        11\n",
            "          37       0.14      0.20      0.17         5\n",
            "          38       0.50      0.57      0.53         7\n",
            "          39       0.40      0.29      0.33         7\n",
            "          40       0.20      0.20      0.20         5\n",
            "          41       0.62      0.45      0.53        11\n",
            "          42       0.75      0.92      0.83        13\n",
            "          43       1.00      0.83      0.91        12\n",
            "          44       0.35      1.00      0.52         6\n",
            "          45       1.00      0.50      0.67         4\n",
            "          46       0.82      0.82      0.82        11\n",
            "          47       0.80      0.33      0.47        12\n",
            "          48       1.00      1.00      1.00         7\n",
            "          49       1.00      0.33      0.50         3\n",
            "          50       0.70      0.70      0.70        10\n",
            "          51       0.83      0.62      0.71         8\n",
            "          52       0.80      1.00      0.89         8\n",
            "          53       0.60      0.60      0.60         5\n",
            "          54       0.56      0.45      0.50        11\n",
            "          55       0.55      0.50      0.52        12\n",
            "          56       0.43      1.00      0.60         3\n",
            "          57       0.67      1.00      0.80         4\n",
            "          58       0.40      0.33      0.36         6\n",
            "          59       0.77      0.83      0.80        12\n",
            "          60       0.67      0.33      0.44         6\n",
            "          61       1.00      0.64      0.78        11\n",
            "          62       0.79      0.83      0.81        18\n",
            "          63       0.62      0.83      0.71         6\n",
            "          64       1.00      1.00      1.00         7\n",
            "          65       0.70      1.00      0.82         7\n",
            "          66       0.11      0.33      0.17         3\n",
            "          67       0.91      0.83      0.87        12\n",
            "          68       0.79      1.00      0.88        11\n",
            "          69       0.89      1.00      0.94         8\n",
            "          70       0.71      1.00      0.83        10\n",
            "          71       0.68      0.85      0.76        20\n",
            "          72       0.17      0.33      0.22         3\n",
            "          73       0.93      0.87      0.90        15\n",
            "          74       1.00      0.25      0.40         8\n",
            "          75       0.80      0.67      0.73         6\n",
            "          76       0.25      0.50      0.33         6\n",
            "          77       0.94      1.00      0.97        15\n",
            "          78       0.72      0.93      0.81        14\n",
            "          79       0.33      0.60      0.43         5\n",
            "          80       0.92      0.92      0.92        12\n",
            "          81       0.50      0.10      0.17        10\n",
            "          82       1.00      0.12      0.22         8\n",
            "          83       0.88      1.00      0.93         7\n",
            "          84       0.83      0.83      0.83         6\n",
            "          85       0.88      0.82      0.85        17\n",
            "          86       0.33      0.09      0.14        11\n",
            "          87       0.50      0.50      0.50         4\n",
            "          88       0.82      0.60      0.69        15\n",
            "          89       0.60      1.00      0.75         6\n",
            "          90       0.50      0.55      0.52        11\n",
            "          91       0.82      0.90      0.86        10\n",
            "          92       0.57      0.89      0.70         9\n",
            "          93       0.71      0.45      0.56        11\n",
            "          94       0.77      0.81      0.79        21\n",
            "          95       0.72      0.87      0.79        15\n",
            "          96       0.80      0.67      0.73         6\n",
            "          97       0.78      0.70      0.74        10\n",
            "          98       1.00      0.80      0.89         5\n",
            "          99       0.92      1.00      0.96        11\n",
            "         100       0.50      1.00      0.67         2\n",
            "\n",
            "    accuracy                           0.73      1142\n",
            "   macro avg       0.64      0.64      0.61      1142\n",
            "weighted avg       0.74      0.73      0.71      1142\n",
            "\n"
          ]
        }
      ],
      "source": [
        "print(classification_report_per_class(all_preds, all_labels))"
      ]
    },
    {
      "cell_type": "code",
      "execution_count": 115,
      "metadata": {
        "colab": {
          "base_uri": "https://localhost:8080/",
          "height": 1000
        },
        "id": "IKCol302w8ic",
        "outputId": "bed4935f-c6d8-41be-f8d7-0214111e2cff"
      },
      "outputs": [
        {
          "data": {
            "image/png": "[encoded data removed]",
            "text/plain": [
              "<Figure size 800x500 with 1 Axes>"
            ]
          },
          "metadata": {},
          "output_type": "display_data"
        },
        {
          "data": {
            "image/png": "[encoded data removed]",
            "text/plain": [
              "<Figure size 800x500 with 1 Axes>"
            ]
          },
          "metadata": {},
          "output_type": "display_data"
        }
      ],
      "source": [
        "fig, ax = plt.subplots(nrows=1, ncols=1, figsize=(8,5))\n",
        "\n",
        "epochs = [i for i in range(1, num_epochs+1)]\n",
        "ax.plot(epochs, epoch_loss_train, linestyle='-', marker='*', label='Training loss')\n",
        "ax.plot(epochs, epoch_loss_val, linestyle='-', marker='*', label='Validation loss')\n",
        "\n",
        "ax.set_xlabel('Epochs', labelpad=12, fontweight='bold')\n",
        "ax.set_ylabel('Cross Entropy Loss', labelpad=12, rotation=90, fontweight='bold')\n",
        "\n",
        "ax.set_title('Loss during gradient descent', pad=20, fontweight='bold')\n",
        "\n",
        "ax.legend()\n",
        "plt.grid(alpha=0.3)\n",
        "plt.show()\n",
        "\n",
        "\n",
        "fig, ax = plt.subplots(nrows=1, ncols=1, figsize=(8,5))\n",
        "\n",
        "epochs = [i for i in range(1, num_epochs+1)]\n",
        "ax.plot(epochs, epoch_acc_train, color='#7B1FA2', linestyle='-', marker='*', label='Training accuracy')\n",
        "ax.plot(epochs, epoch_acc_val, color='#FFC107', linestyle='-', marker='*', label='Validation accuracy')\n",
        "\n",
        "ax.set_xlabel('Epochs', labelpad=12, fontweight='bold')\n",
        "ax.set_ylabel('Accuracy', labelpad=12, rotation=90, fontweight='bold')\n",
        "\n",
        "ax.set_title('Accuracy during gradient descent', pad=20, fontweight='bold')\n",
        "\n",
        "ax.legend()\n",
        "plt.grid(alpha=0.3)\n",
        "plt.show()"
      ]
    },
    {
      "cell_type": "code",
      "execution_count": 116,
      "metadata": {},
      "outputs": [],
      "source": [
        "from sklearn.metrics import precision_score, recall_score, f1_score\n",
        "\n",
        "def precision(outputs, labels):\n",
        "    return precision_score(labels.cpu(), outputs.cpu(), average='weighted', zero_division=0)\n",
        "\n",
        "def recall(outputs, labels):\n",
        "    return recall_score(labels.cpu(), outputs.cpu(), average='weighted', zero_division=0)\n",
        "\n",
        "def f1(outputs, labels):\n",
        "    return f1_score(labels.cpu(), outputs.cpu(), average='weighted', zero_division=0)"
      ]
    },
    {
      "cell_type": "code",
      "execution_count": 117,
      "metadata": {},
      "outputs": [],
      "source": [
        "def evaluate_on_test(model, test_dataloader, device):\n",
        "    model.eval()  # Colocar o modelo em modo de avaliação\n",
        "    test_running_loss = 0.0\n",
        "    test_running_corrects = 0\n",
        "    all_preds = []\n",
        "    all_labels = []\n",
        "\n",
        "    criterion = nn.CrossEntropyLoss()\n",
        "\n",
        "    with torch.no_grad():  \n",
        "        for inputs, labels in test_dataloader:\n",
        "            inputs, labels = inputs.to(device), labels.to(device)\n",
        "            \n",
        "            # Forward pass\n",
        "            outputs = model(inputs)\n",
        "            loss = criterion(outputs, labels)\n",
        "\n",
        "            # Predições\n",
        "            _, preds = torch.max(outputs, 1)\n",
        "            all_preds.append(preds)\n",
        "            all_labels.append(labels)\n",
        "            \n",
        "            test_running_loss += loss.item() * inputs.size(0)\n",
        "            test_running_corrects += (preds == labels).sum().item()\n",
        "\n",
        "    # Calcular loss e acurácia médios\n",
        "    test_loss = test_running_loss / len(test_dataloader.dataset)\n",
        "    test_acc = test_running_corrects / len(test_dataloader.dataset)\n",
        "\n",
        "    all_preds = torch.cat(all_preds)\n",
        "    all_labels = torch.cat(all_labels)\n",
        "\n",
        "    test_precision = precision(all_preds, all_labels)\n",
        "    test_recall = recall(all_preds, all_labels)\n",
        "    test_f1 = f1(all_preds, all_labels)\n",
        "\n",
        "    print(f\"Teste - Loss: {test_loss:.4f}, Acurácia: {test_acc:.4f}\")\n",
        "    print(f\"Precisão: {test_precision:.4f}, Recall: {test_recall:.4f}, F1-Score: {test_f1:.4f}\")\n",
        "\n",
        "    return test_loss, test_acc, test_precision, test_recall, test_f1"
      ]
    },
    {
      "cell_type": "code",
      "execution_count": 118,
      "metadata": {},
      "outputs": [
        {
          "name": "stdout",
          "output_type": "stream",
          "text": [
            "Teste - Loss: 1.3076, Acurácia: 0.7524\n",
            "Precisão: 0.7497, Recall: 0.7524, F1-Score: 0.7374\n"
          ]
        }
      ],
      "source": [
        "test_loss, test_acc, test_precision, test_recall, test_f1 = evaluate_on_test(model, test_dataloader, device)"
      ]
    },
    {
      "cell_type": "code",
      "execution_count": 119,
      "metadata": {},
      "outputs": [
        {
          "name": "stdout",
          "output_type": "stream",
          "text": [
            "Número de classes com Precision = 0: 4\n",
            "Classes com Precision = 0: [9, 22, 28, 29]\n",
            "Número de classes com Recall = 0: 4\n",
            "Classes com Recall = 0: [9, 22, 28, 29]\n",
            "Número de classes com Precision e Recall = 0: 4\n",
            "Classes com Precision e Recall = 0: {9, 28, 29, 22}\n"
          ]
        }
      ],
      "source": [
        "def count_zero_precision_recall(y_true, y_pred, num_classes=101):\n",
        "    precision = []\n",
        "    recall = []\n",
        "\n",
        "    y_true = np.array(y_true)\n",
        "    y_pred = np.array(y_pred)\n",
        "\n",
        "    for class_label in range(num_classes):\n",
        "        precision_value = precision_score(y_true, y_pred, labels=[class_label], average='macro', zero_division=0)\n",
        "        recall_value = recall_score(y_true, y_pred, labels=[class_label], average='macro', zero_division=0)\n",
        "        precision.append(precision_value)\n",
        "        recall.append(recall_value)\n",
        "\n",
        "    precision = np.array(precision)\n",
        "    recall = np.array(recall)\n",
        "\n",
        "    zero_precision_classes = [i for i in range(num_classes) if precision[i] == 0]\n",
        "    zero_recall_classes = [i for i in range(num_classes) if recall[i] == 0]\n",
        "    \n",
        "    print(f\"Número de classes com Precision = 0: {len(zero_precision_classes)}\")\n",
        "    print(f\"Classes com Precision = 0: {zero_precision_classes}\")\n",
        "\n",
        "    print(f\"Número de classes com Recall = 0: {len(zero_recall_classes)}\")\n",
        "    print(f\"Classes com Recall = 0: {zero_recall_classes}\")\n",
        "\n",
        "    zero_classes = set(zero_precision_classes) & set(zero_recall_classes)\n",
        "    print(f\"Número de classes com Precision e Recall = 0: {len(zero_classes)}\")\n",
        "    print(f\"Classes com Precision e Recall = 0: {zero_classes}\")\n",
        "    \n",
        "count_zero_precision_recall(all_labels.cpu(),all_preds.cpu(), num_classes=101)"
      ]
    }
  ],
  "metadata": {
    "accelerator": "TPU",
    "colab": {
      "gpuType": "V28",
      "provenance": []
    },
    "kernelspec": {
      "display_name": "Python 3",
      "name": "python3"
    },
    "language_info": {
      "codemirror_mode": {
        "name": "ipython",
        "version": 3
      },
      "file_extension": ".py",
      "mimetype": "text/x-python",
      "name": "python",
      "nbconvert_exporter": "python",
      "pygments_lexer": "ipython3",
      "version": "3.11.9"
    }
  },
  "nbformat": 4,
  "nbformat_minor": 0
}
